{
 "cells": [
  {
   "cell_type": "markdown",
   "id": "7440c557-0f0d-4dc2-b4a3-fe0d96d59006",
   "metadata": {},
   "source": [
    "This is my first Jupyter notebook"
   ]
  },
  {
   "cell_type": "code",
   "execution_count": 3,
   "id": "4ab598c7-391b-48ef-8bc3-28af56506d4c",
   "metadata": {},
   "outputs": [
    {
     "name": "stdout",
     "output_type": "stream",
     "text": [
      "My name is Tej Shah\n"
     ]
    }
   ],
   "source": [
    "print('My name is Tej Shah')"
   ]
  },
  {
   "cell_type": "code",
   "execution_count": null,
   "id": "2cbb3c79-1f9f-49fa-82f2-8a7acf6a6b0d",
   "metadata": {},
   "outputs": [],
   "source": []
  }
 ],
 "metadata": {
  "kernelspec": {
   "display_name": "Python 3 (ipykernel)",
   "language": "python",
   "name": "python3"
  },
  "language_info": {
   "codemirror_mode": {
    "name": "ipython",
    "version": 3
   },
   "file_extension": ".py",
   "mimetype": "text/x-python",
   "name": "python",
   "nbconvert_exporter": "python",
   "pygments_lexer": "ipython3",
   "version": "3.9.0"
  }
 },
 "nbformat": 4,
 "nbformat_minor": 5
}
