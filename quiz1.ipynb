{
 "cells": [
  {
   "cell_type": "markdown",
   "id": "93452f24-de43-40c4-8314-a7e5f89648b8",
   "metadata": {},
   "source": [
    "# Quiz 1\n",
    "\n",
    "<font size = '4'>\n",
    "\n",
    "Sep 12, 2025"
   ]
  },
  {
   "cell_type": "markdown",
   "id": "8c69e879-e47a-4e6f-a97b-d7a94b04ed74",
   "metadata": {},
   "source": [
    "## 1. Create a PyCharm project under your GitHub folder.\n",
    "\n",
    "<font size='4'> \n",
    "\n",
    "If you have successfully done it before, you can skip this step."
   ]
  },
  {
   "cell_type": "markdown",
   "id": "825e887d-1b90-4ff0-9e86-fd22f3aea1df",
   "metadata": {},
   "source": [
    "## 2. Launch Jupyter notebook from Terminal\n",
    "\n",
    "<font size='4'>\n",
    "\n",
    "Create a new jupyter notebook. You can change the name in the final step.\n",
    "\n",
    "Create a markdown section and print your first and last name."
   ]
  },
  {
   "cell_type": "markdown",
   "id": "1972ceeb-b4b9-4ee7-a36a-adb192d72d1c",
   "metadata": {},
   "source": [
    "## 3. List and its related functions"
   ]
  },
  {
   "cell_type": "markdown",
   "id": "57fe55ab-699c-4d32-a2ec-5cfb4ef6c138",
   "metadata": {},
   "source": [
    "### Useful functions with list (Hint attached here!)\n",
    "\n",
    "<font size = '4'>\n",
    "\n",
    "We learned list last week as well. There are some useful list functions that can help you work on it faster. <br>\n",
    "\n",
    "The general syntax is: `list_name.function_name(input_parameter)`.\n",
    "\n",
    "List is not assignable, so you CANNOT write `list_name = list_name.function_name()`. <br>\n",
    "Instead, when you run `list_name.function_name(input_parameter)`, the `list_name` itself is updated, which is called **mutable**. We will come back to this concept later.\n",
    "\n",
    "- `.append()`: Add a single element to the end of that list.\n",
    "- `.count(item)`: Count occurrences of an item in the list.\n",
    "- `.copy()`: Create a shallow copy of the list.\n",
    "- `.index(item)`: Find the idnex of the first occurrences of an item.\n",
    "- `.insert(position, item)`: Insert an item at a specific position.\n",
    "- `.pop(position)`: Remove and return the item at a specific position.\n",
    "- `.remove(item)`: Remove the first occurrence of an item.\n",
    "- `.reverse()`: Reverse the order of the list."
   ]
  },
  {
   "cell_type": "markdown",
   "id": "60583ee9-60b9-4b3a-b3ec-a8ca32643be3",
   "metadata": {},
   "source": [
    "<font size='4'>\n",
    "\n",
    "Since list is mutable, for each question in this quiz, we assume it is a separate list with a different name.\n",
    "\n",
    "**Answer the following nine questions and fill in the answers in a separate code segment with the same order.** <br>\n",
    "You should have nine code segments.\n",
    "\n",
    "All your answers should be either a list with `'cat1'` and `'cat2'` or a numerical value."
   ]
  },
  {
   "cell_type": "markdown",
   "id": "90094ee0-1cc7-4748-bfa5-86df4fe4c1e5",
   "metadata": {},
   "source": [
    "<font size='4'>\n",
    "\n",
    "1. `['cat1', 'cat1', 'cat1'].append('cat2')`\n",
    "    \n",
    "<img src=\"figures/quiz1_q1.png\" alt=\"drawing\" width=\"600\"/>\n"
   ]
  },
  {
   "cell_type": "code",
   "execution_count": 4,
   "id": "f321d1b4-8d08-4951-a87f-1f74a801d412",
   "metadata": {},
   "outputs": [
    {
     "name": "stdout",
     "output_type": "stream",
     "text": [
      "['cat1', 'cat1', 'cat1', 'cat2']\n"
     ]
    }
   ],
   "source": [
    "cat1=['cat1', 'cat1', 'cat1']\n",
    "cat1.append('cat2')\n",
    "print(cat1)"
   ]
  },
  {
   "cell_type": "markdown",
   "id": "7bf1af17-b293-45f6-bfba-a30f63956461",
   "metadata": {},
   "source": [
    "<font size='4'>\n",
    "\n",
    "2. `['cat1, 'cat1', 'cat1'].clear()`\n",
    "\n",
    "<img src=\"figures/quiz1_q2.png\" alt=\"drawing\" width=\"600\"/>"
   ]
  },
  {
   "cell_type": "code",
   "execution_count": 7,
   "id": "9b90e462-2a34-472e-9a28-e1cce9f509a4",
   "metadata": {},
   "outputs": [
    {
     "name": "stdout",
     "output_type": "stream",
     "text": [
      "[]\n"
     ]
    }
   ],
   "source": [
    "cat1.clear()\n",
    "print(cat1)"
   ]
  },
  {
   "cell_type": "markdown",
   "id": "7ed9eb0f-17dc-46be-a469-42a37b1be687",
   "metadata": {},
   "source": [
    "<font size='4'>\n",
    "\n",
    "3. `['cat1', 'cat1', 'cat1'].copy()`\n",
    "\n",
    "<img src=\"figures/quiz1_q3.png\" alt=\"drawing\" width=\"600\"/>"
   ]
  },
  {
   "cell_type": "code",
   "execution_count": 8,
   "id": "66df4082-8746-48a7-af33-7944e8224202",
   "metadata": {},
   "outputs": [
    {
     "name": "stdout",
     "output_type": "stream",
     "text": [
      "['cat1', 'cat1', 'cat1']\n"
     ]
    }
   ],
   "source": [
    "cat1=['cat1', 'cat1', 'cat1']\n",
    "cat2 = cat1.copy()\n",
    "print(cat2)"
   ]
  },
  {
   "cell_type": "markdown",
   "id": "eb7074fa-db4c-430c-9c25-66bdf577e82c",
   "metadata": {},
   "source": [
    "<font size='4'>\n",
    "    \n",
    "4. `['cat1', 'cat1', 'cat2'].count('cat1')`\n",
    "\n",
    "<img src=\"figures/quiz1_q4.png\" alt=\"drawing\" width=\"600\"/>"
   ]
  },
  {
   "cell_type": "code",
   "execution_count": 9,
   "id": "d205ba4b-ede0-4529-abbf-807cc42ed871",
   "metadata": {},
   "outputs": [
    {
     "data": {
      "text/plain": [
       "2"
      ]
     },
     "execution_count": 9,
     "metadata": {},
     "output_type": "execute_result"
    }
   ],
   "source": [
    "cat1=['cat1', 'cat1', 'cat2']\n",
    "cat1.count('cat1')"
   ]
  },
  {
   "cell_type": "markdown",
   "id": "91054596-33b4-4a61-94a1-528f2d30e420",
   "metadata": {},
   "source": [
    "<font size='4'>\n",
    "    \n",
    "5. `['cat1', 'cat1', 'cat2'].index('cat2')`\n",
    "\n",
    "<img src=\"figures/quiz1_q5.png\" alt=\"drawing\" width=\"600\"/>"
   ]
  },
  {
   "cell_type": "code",
   "execution_count": 10,
   "id": "a697ed23-6527-4bcb-a417-1ff4ab54dc73",
   "metadata": {},
   "outputs": [
    {
     "data": {
      "text/plain": [
       "2"
      ]
     },
     "execution_count": 10,
     "metadata": {},
     "output_type": "execute_result"
    }
   ],
   "source": [
    "cat1=['cat1', 'cat1', 'cat2']\n",
    "cat1.index('cat2')"
   ]
  },
  {
   "cell_type": "markdown",
   "id": "f7739321-b9c9-4bc7-a3f5-8cf058ae6427",
   "metadata": {},
   "source": [
    "<font size='4'>\n",
    "    \n",
    "6. `['cat1', 'cat1', 'cat2'].insert(1, 'cat2')`\n",
    "\n",
    "<img src=\"figures/quiz1_q6.png\" alt=\"drawing\" width=\"600\"/>"
   ]
  },
  {
   "cell_type": "code",
   "execution_count": 11,
   "id": "43ce4bf4-d12f-42a3-9a4e-c6de397cfe34",
   "metadata": {},
   "outputs": [
    {
     "name": "stdout",
     "output_type": "stream",
     "text": [
      "['cat1', 'cat2', 'cat1', 'cat2']\n"
     ]
    }
   ],
   "source": [
    "cat1=['cat1', 'cat1', 'cat2']\n",
    "cat1.insert(1, 'cat2')\n",
    "print(cat1)"
   ]
  },
  {
   "cell_type": "markdown",
   "id": "f8edf78f-01bf-43de-86a0-8d8cdb15ee49",
   "metadata": {},
   "source": [
    "<font size='4'>\n",
    "    \n",
    "7. `['cat1', 'cat1', 'cat2'].pop(2)`\n",
    "\n",
    "<img src=\"figures/quiz1_q7.png\" alt=\"drawing\" width=\"600\"/>"
   ]
  },
  {
   "cell_type": "code",
   "execution_count": 12,
   "id": "85e60e47-449b-4424-bc47-897b3dfec723",
   "metadata": {},
   "outputs": [
    {
     "name": "stdout",
     "output_type": "stream",
     "text": [
      "['cat1', 'cat1']\n"
     ]
    }
   ],
   "source": [
    "cat1=['cat1', 'cat1', 'cat2']\n",
    "cat1.pop(2)\n",
    "print(cat1)"
   ]
  },
  {
   "cell_type": "markdown",
   "id": "dd2a6455-699b-4474-86ac-b95be7f1b938",
   "metadata": {},
   "source": [
    "<font size='4'>\n",
    "    \n",
    "8. `['cat1', 'cat1', 'cat2'].remove('cat2')`\n",
    "\n",
    "<img src=\"figures/quiz1_q8.png\" alt=\"drawing\" width=\"600\"/>"
   ]
  },
  {
   "cell_type": "code",
   "execution_count": 13,
   "id": "e1e972b6-3a96-42ae-ba21-f1b15f23dd38",
   "metadata": {},
   "outputs": [
    {
     "name": "stdout",
     "output_type": "stream",
     "text": [
      "['cat1', 'cat1']\n"
     ]
    }
   ],
   "source": [
    "cat1=['cat1', 'cat1', 'cat2']\n",
    "cat1.remove('cat2')\n",
    "print(cat1)"
   ]
  },
  {
   "cell_type": "markdown",
   "id": "f767bf27-4640-4b16-9c30-21d79b80451e",
   "metadata": {},
   "source": [
    "<font size='4'>\n",
    "    \n",
    "9. `['cat1', 'cat1', 'cat2'].reverse()`\n",
    "\n",
    "<img src=\"figures/quiz1_q9.png\" alt=\"drawing\" width=\"600\"/>"
   ]
  },
  {
   "cell_type": "code",
   "execution_count": 14,
   "id": "45e8aac8-4ab0-4f07-b79b-84abe1b9bd52",
   "metadata": {},
   "outputs": [
    {
     "name": "stdout",
     "output_type": "stream",
     "text": [
      "['cat2', 'cat1', 'cat1']\n"
     ]
    }
   ],
   "source": [
    "cat1=['cat1', 'cat1', 'cat2']\n",
    "cat1.reverse()\n",
    "print(cat1)"
   ]
  },
  {
   "cell_type": "markdown",
   "id": "32d5209b-db0f-4f9f-9b61-f7b9873c811b",
   "metadata": {},
   "source": [
    "## 4. Save your jupyter notebook and upload it to your GitHub repository\n",
    "\n",
    "<font size='4'>\n",
    "    \n",
    "- Run all your cells.\n",
    "- Save your jupyter notebook and rename it to 'Quiz1.ipynb'.\n",
    "- Commit **only** your 'Quiz1.ipynb' and push it to your own GitHub repository.\n",
    "- Go to your GitHub repository online and find the corresponding file.\n",
    "- Copy and paste the link to your online 'Quiz1.ipynb' to the ['Quiz 1'](https://canvas.emory.edu/courses/151544/assignments/1124546) Assignment on Canvas."
   ]
  }
 ],
 "metadata": {
  "kernelspec": {
   "display_name": "Python 3 (ipykernel)",
   "language": "python",
   "name": "python3"
  },
  "language_info": {
   "codemirror_mode": {
    "name": "ipython",
    "version": 3
   },
   "file_extension": ".py",
   "mimetype": "text/x-python",
   "name": "python",
   "nbconvert_exporter": "python",
   "pygments_lexer": "ipython3",
   "version": "3.9.0"
  }
 },
 "nbformat": 4,
 "nbformat_minor": 5
}
