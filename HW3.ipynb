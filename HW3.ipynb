{
 "cells": [
  {
   "attachments": {},
   "cell_type": "markdown",
   "metadata": {},
   "source": [
    "# HW3 (20')"
   ]
  },
  {
   "attachments": {},
   "cell_type": "markdown",
   "metadata": {},
   "source": [
    "## Submit as an HTML or PDF file"
   ]
  },
  {
   "attachments": {},
   "cell_type": "markdown",
   "metadata": {},
   "source": [
    "Print your name (First Name and Last Name) below"
   ]
  },
  {
   "cell_type": "code",
   "execution_count": 1,
   "metadata": {},
   "outputs": [
    {
     "name": "stdout",
     "output_type": "stream",
     "text": [
      "Tej Shah\n"
     ]
    }
   ],
   "source": [
    "print('Tej Shah')"
   ]
  },
  {
   "attachments": {},
   "cell_type": "markdown",
   "metadata": {},
   "source": [
    "- Import the `numpy` and `matplotlib` packages and rename them to their alias.\n",
    "- Import `scipy` (no renaming)."
   ]
  },
  {
   "cell_type": "code",
   "execution_count": 3,
   "metadata": {},
   "outputs": [],
   "source": [
    "# Write your own code\n",
    "import numpy as np\n",
    "import matplotlib.pyplot as plt\n",
    "import scipy"
   ]
  },
  {
   "attachments": {},
   "cell_type": "markdown",
   "metadata": {},
   "source": [
    "## (a) Compute a probability mass function for Poisson distribution with a parameter $\\lambda$. \n",
    "\n",
    "$P(X=k) = \\lambda^k \\exp(-\\lambda)/k!$, where $k\\in\\mathbb{N}_0$\n",
    "\n",
    "Calculate $P(X=k)$ when\n",
    "- $\\lambda=1.5$\n",
    "- $k=5$\n",
    "\n",
    "To get full points:\n",
    "- First define each of these input variables and assign them with pre-specified values **(1')**\n",
    "- For the factorial, you can use `np.arange()` and `np.prod()` **(1')**\n",
    "- Define `P_val` and write the formula above **(1')**\n",
    "- Use the built-in function `scipy.stats.poisson.pmf()` to compute the pmf, denoted as `P_scipy_val` **(1')**\n",
    "    - https://docs.scipy.org/doc/scipy/reference/generated/scipy.stats.poisson.html \n",
    "- Print two results together **(1')**"
   ]
  },
  {
   "cell_type": "code",
   "execution_count": 15,
   "metadata": {},
   "outputs": [
    {
     "name": "stdout",
     "output_type": "stream",
     "text": [
      "0.014119955446892825\n",
      "0.014119955446892832\n"
     ]
    }
   ],
   "source": [
    "# lambda_val = rate parameter of the Poisson distribution\n",
    "# Notice that lambda itself is a reserved keyword in Python, so we need to come up with a different name.\n",
    "lambda_val = 1.5\n",
    "\n",
    "# k_val is the input, which takes values from the entire natural number set.\n",
    "# here we calculate a particular option when k_val=5.\n",
    "k_val = 5\n",
    "factorial_k = np.prod(np.arange(1, k_val+1))\n",
    "# P_val = ...\n",
    "P_val = lambda_val**k_val * np.exp(-lambda_val)/factorial_k\n",
    "# Use built-in function to compute the PMF, denoted as P_scipy\n",
    "# P_scipy_val = ...\n",
    "P_scipy = scipy.stats.poisson.pmf(k_val, lambda_val)\n",
    "\n",
    "print(P_val)\n",
    "print(P_scipy)\n",
    "# Write your own code"
   ]
  },
  {
   "attachments": {},
   "cell_type": "markdown",
   "metadata": {},
   "source": [
    "## (b) Composite operations on arrays\n",
    "\n",
    "<font color='red'> **To develop a good naming habit, I recommend you add the type information to the name of the variable. For example, if it is a scalar, you can add `_val`; if it is a vec, you can add `_vec`; if it is a matrix, you can add `_mat`, if it is a boolean, you can add `_bool`, etc.** </font>\n",
    "\n",
    "- Define `r_val` as 0.06\n",
    "- Define two arrays $a$ and $t$ using `np.array()`, renaming them as `a_vec` and `t_vec`, assigning the following values: **(1')**\n",
    "\n",
    "$ a = \\begin{pmatrix} a_0 \\\\ a_1 \\\\ a_2 \\end{pmatrix} = \\begin{pmatrix} 20 \\\\ 30 \\\\ 15 \\end{pmatrix}, \\qquad t = \\begin{pmatrix} t_0 \\\\ t_1 \\\\ t_2 \\end{pmatrix} = \\begin{pmatrix} 0 \\\\ 1 \\\\ 2 \\end{pmatrix} $\n",
    "\n",
    "- Use element-by-element vector operations to compute a new array `m_vec` of length 3 as follows: **(1')** <br>\n",
    "\n",
    "$ m = \\begin{pmatrix} a_0 / (1+r)^{t_0} \\\\ a_1 / (1+r)^{t_1} \\\\ a_2 / (1+r)^{t_2} \\end{pmatrix} $\n",
    "\n",
    "- Compute the sum of the values of $m$ **(1')**\n",
    "    - You can either use `np.sum()` or `m_vec.sum()`.\n",
    "    - I am using subscripts to denote the individual elements of $a$ and $t$. In the code just enter the values of $a$ and $t$.\n",
    "\n",
    "- Compute the inner product (or Euclidean distance) of `m_vec` manually.\n",
    "- $||m||_2 = \\sqrt{m^\\top * m}$, where $^\\top$ is the transpose operator, and $*$ is the matrix operator (not element-wise multiplication).\n",
    "  - You can use `^T` to compute transpose or use `np.transpose()`. **(1')**\n",
    "  - You can use `@` to perform matrix multiplication or use `np.matmul()`. Make sure the dimension is correct. **(1')**\n",
    "  - Use `np.sqrt()` to compute the square root.\n",
    "  - Print out your final result and compare it to the built-in function `np.linalg.norm(m_vec, ord=2)`.\n"
   ]
  },
  {
   "cell_type": "code",
   "execution_count": 21,
   "metadata": {},
   "outputs": [
    {
     "name": "stdout",
     "output_type": "stream",
     "text": [
      "61.65183339266643\n",
      "37.137822637324476\n",
      "37.137822637324476\n"
     ]
    }
   ],
   "source": [
    "# Write your own code\n",
    "r_val = 0.06\n",
    "\n",
    "a_vec = np.array([20,30,15])\n",
    "t_vec = np.array([0,1,2])\n",
    "m_vec = a_vec / (1+r_val)**t_vec\n",
    "print(m_vec.sum())\n",
    "\n",
    "ip = np.sqrt(np.transpose(m_vec) @ m_vec)\n",
    "print(ip)\n",
    "print(np.linalg.norm(m_vec, ord=2))"
   ]
  },
  {
   "attachments": {},
   "cell_type": "markdown",
   "metadata": {},
   "source": [
    "## (c) Plot a standard student-t random vector\n",
    "\n",
    "To get full points:\n",
    "\n",
    "- Observe the naming tradition mentioned above.\n",
    "- Set a seed with a number `612`. **(1')**\n",
    "- Define parameters and sample size and assign them to pre-specified values ahead of time.\n",
    "    - `df=1` and `size = 1000`.\n",
    "    - When degree of freedom (`df`) is 1, the student-t distribution is also known as a Cauchy distribution.\n",
    "        - It does not have a valid mean nor variance. (You will have a clearer idea when you see the histogram!)\n",
    "    - Use `ny.random.standard_t()` to generate random samples from standard student-t distributions. **(1')**\n",
    "- Create a histogram plot **(1')**\n",
    "    - Change the default color to `skyblue`. **(1')**\n",
    "    - Label the x, y axes and title properly. **(1')**\n",
    "    - **Optional**: You can change the number of `bins` in the `plt.hist()` function to obtain a granular view of the histogram. "
   ]
  },
  {
   "cell_type": "code",
   "execution_count": 32,
   "metadata": {},
   "outputs": [
    {
     "data": {
      "image/png": "[encoded data removed]",
      "text/plain": [
       "<Figure size 640x480 with 1 Axes>"
      ]
     },
     "metadata": {},
     "output_type": "display_data"
    }
   ],
   "source": [
    "# Write your own code\n",
    "np.random.seed(612)\n",
    "df=1\n",
    "size=1000\n",
    "t_vec = np.random.standard_t(df, size)\n",
    "\n",
    "plt.hist(x=t_vec, bins=100, color=\"skyblue\")\n",
    "plt.xlabel(\"Value\")\n",
    "plt.ylabel(\"Frequency\")\n",
    "plt.title(\"Histogram of Student-t Random Vector (df=1, size=1000)\")\n",
    "plt.show()"
   ]
  },
  {
   "attachments": {},
   "cell_type": "markdown",
   "metadata": {},
   "source": [
    "## (d) Checking whether word is part of list\n",
    "\n",
    "- Define a variable `disease_type_str` with the value **\"Phobic anxiety disorders\"** **(1')**\n",
    "- Define a list of anxiety types `anxiety_ls` with names from the following link: **(1')**\n",
    "    - https://www.icd10data.com/ICD10CM/Codes/F01-F99/F40-F48\n",
    "    - This is the code for diagnoses related to mental health, specifically anxiety, dissociative, stress-related, somatoform, and other nonpsychotic mental disorders.\n",
    "    - Do not copy the codes!\n",
    "- Use `anxiety_ls.index()` function to export and print out the location of **\"Somatoform disorders\"** **(1')** \n",
    "- Write an expression to test whether `disease_type_str` is contained in `anxiety_ls` and store the result in a variable `result_bool_1` **(1')**\n",
    "- Change `disease_type_str` to **\"Manic episode\"** and replicate the above step with another resulting variable `result_bool_2` **(1')**\n",
    "\n",
    "To get full points run all of the above commands"
   ]
  },
  {
   "cell_type": "code",
   "execution_count": 40,
   "metadata": {},
   "outputs": [
    {
     "name": "stdout",
     "output_type": "stream",
     "text": [
      "5\n",
      "True\n",
      "False\n"
     ]
    }
   ],
   "source": [
    "# Write your own code\n",
    "disease_type_str = \"Phobic anxiety disorders\"\n",
    "anxiety_ls = [\"Phobic anxiety disorders\", \"Other anxiety disorders\", \"Obsessive-compulsive disorder\", \n",
    "\"Reaction to severe stress, and adjustment disorders\", \"Dissociative and conversion disorders\",\n",
    "\"Somatoform disorders\", \"Other nonpsychotic mental disorders\"]\n",
    "\n",
    "print(anxiety_ls.index(\"Somatoform disorders\"))\n",
    "result_bool_1 = disease_type_str in anxiety_ls\n",
    "\n",
    "disease_type_str = \"Manic episode\"\n",
    "result_bool_2 = disease_type_str in anxiety_ls\n",
    "\n",
    "print(result_bool_1)\n",
    "print(result_bool_2)"
   ]
  },
  {
   "cell_type": "markdown",
   "metadata": {},
   "source": [
    "## (e) Classifying the anxiety level based on GAD-7 evaluation\n",
    "\n",
    "Generalized Anxiety Disorder can be evaluated using a 7-item questionnaire (GAD-7) with a total score ranging from 0 to 21, where higher scores indicate more severe anxiety. \n",
    "- The score levels are generally interpreted as\n",
    "    - 0-4: Minimal\n",
    "    - 5-9: Mild\n",
    "    - 10-14: Moderate\n",
    "    - 15-21: Severe\n",
    "- A score >= 10 suggested a potential diagnosis of GAD, warranting further clinical evaluation or intervention.\n",
    "- You can find more details here: https://adaa.org/sites/default/files/GAD-7_Anxiety-updated_0.pdf.\n",
    "- Define a new variable `gad7_val` and assign the value to 6, 12, and 20. \n",
    "- Write an `if/elif/else` statement that prints out the corresponding ordinal level for the above three numerical values. **(2')**\n",
    "- Since we haven't covered functions yet, when you change `gad7_val` to a new value, you need to copy your existing control flow codes and reun them in a new code chunk. I provide three empty code chunks below for you to work on each scenario. **(3')** Each scenario's output counts as 1 point."
   ]
  },
  {
   "cell_type": "code",
   "execution_count": 41,
   "metadata": {},
   "outputs": [
    {
     "name": "stdout",
     "output_type": "stream",
     "text": [
      "Mild\n"
     ]
    }
   ],
   "source": [
    "# Write your own code\n",
    "gad7_val = 6\n",
    "\n",
    "if 4>= gad7_val >= 0:\n",
    "    print(\"Minimal\")\n",
    "elif 9>= gad7_val >= 5:\n",
    "    print(\"Mild\")\n",
    "elif 14 >= gad7_val >= 10:\n",
    "    print(\"Moderate\")\n",
    "elif 21>= gad7_val >= 15:\n",
    "    print(\"Severe\")\n",
    "else:\n",
    "    print(\"Score is not valid, GAD-7 has scores between 0 and 21\")"
   ]
  },
  {
   "cell_type": "code",
   "execution_count": 43,
   "metadata": {},
   "outputs": [
    {
     "name": "stdout",
     "output_type": "stream",
     "text": [
      "Moderate\n"
     ]
    }
   ],
   "source": [
    "# Write your own code\n",
    "# Change you gad7_val and rerun the code\n",
    "gad7_val = 12\n",
    "\n",
    "if 4>= gad7_val >= 0:\n",
    "    print(\"Minimal\")\n",
    "elif 9>= gad7_val >= 5:\n",
    "    print(\"Mild\")\n",
    "elif 14 >= gad7_val >= 10:\n",
    "    print(\"Moderate\")\n",
    "elif 21>= gad7_val >= 15:\n",
    "    print(\"Severe\")\n",
    "else:\n",
    "    print(\"Score is not valid, GAD-7 has scores between 0 and 21\")"
   ]
  },
  {
   "cell_type": "code",
   "execution_count": 45,
   "metadata": {},
   "outputs": [
    {
     "name": "stdout",
     "output_type": "stream",
     "text": [
      "Severe\n"
     ]
    }
   ],
   "source": [
    "# Write your own code\n",
    "# Change you gad7_val and rerun the code\n",
    "gad7_val = 20\n",
    "\n",
    "if 4>= gad7_val >= 0:\n",
    "    print(\"Minimal\")\n",
    "elif 9>= gad7_val >= 5:\n",
    "    print(\"Mild\")\n",
    "elif 14 >= gad7_val >= 10:\n",
    "    print(\"Moderate\")\n",
    "elif 21>= gad7_val >= 15:\n",
    "    print(\"Severe\")\n",
    "else:\n",
    "    print(\"Score is not valid, GAD-7 has scores between 0 and 21\")"
   ]
  }
 ],
 "metadata": {
  "kernelspec": {
   "display_name": "Python 3 (ipykernel)",
   "language": "python",
   "name": "python3"
  },
  "language_info": {
   "codemirror_mode": {
    "name": "ipython",
    "version": 3
   },
   "file_extension": ".py",
   "mimetype": "text/x-python",
   "name": "python",
   "nbconvert_exporter": "python",
   "pygments_lexer": "ipython3",
   "version": "3.9.0"
  },
  "vscode": {
   "interpreter": {
    "hash": "aee8b7b246df8f9039afb4144a1f6fd8d2ca17a180786b69acc140d282b71a49"
   }
  }
 },
 "nbformat": 4,
 "nbformat_minor": 4
}
